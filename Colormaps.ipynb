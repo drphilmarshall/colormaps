{
 "cells": [
  {
   "cell_type": "markdown",
   "metadata": {},
   "source": [
    "# Testing Colormaps\n",
    "\n",
    "In this notebook we implement some of Peter Kovesi's proposed colormap tests, and try them out on some new maps. In particular, we're interested in the performance of:\n",
    "\n",
    "1. Diverging color tables made from two concatenated converging color tables \n",
    "2. A \"random linear\" color table, designed to look like a linear grayscale when printed in black and white, but incomprehensible when seen on a color display.\n",
    "\n",
    "\n",
    "### Requirements\n",
    "\n",
    "#### Packages\n",
    "\n",
    "You'll need `matplotlib`, but that's about it."
   ]
  },
  {
   "cell_type": "code",
   "execution_count": 1,
   "metadata": {
    "collapsed": false
   },
   "outputs": [],
   "source": [
    "# Use inline for development:\n",
    "# %matplotlib inline  \n",
    "\n",
    "# Use agg to save pngs and display grayscale versions alongside:\n",
    "import matplotlib\n",
    "matplotlib.use('Agg')\n",
    "\n",
    "from matplotlib.colors import ListedColormap, LinearSegmentedColormap\n",
    "from matplotlib._cm import cubehelix\n",
    "import numpy as np\n",
    "import matplotlib.pyplot as plt\n",
    "\n",
    "from IPython.display import HTML, display\n",
    "\n",
    "from testcard import *"
   ]
  },
  {
   "cell_type": "markdown",
   "metadata": {},
   "source": [
    "#### Colormap Test Data\n",
    "\n",
    "Peter Karpov provides color map data on his website, [here](http://inversed.ru/Blog_2.htm). These are checked in to the `data` folder of this repository."
   ]
  },
  {
   "cell_type": "code",
   "execution_count": 2,
   "metadata": {
    "collapsed": false
   },
   "outputs": [],
   "source": [
    "_hesperia_data = np.loadtxt(\"data/hesperia.csv\", delimiter=\",\", skiprows=4).tolist()\n",
    "_laguna_data = np.loadtxt(\"data/laguna.csv\", delimiter=\",\", skiprows=4).tolist()\n",
    "_lacerta_data = np.loadtxt(\"data/lacerta.csv\", delimiter=\",\", skiprows=4).tolist()\n",
    "_mod_plasma_data = np.loadtxt(\"data/mod_plasma.csv\", delimiter=\",\", skiprows=4).tolist()"
   ]
  },
  {
   "cell_type": "markdown",
   "metadata": {},
   "source": [
    "## 1. Diverging Colormaps\n",
    "\n",
    "First, let's try constructing a diverging color map from concatenating two converging color maps, back to back:"
   ]
  },
  {
   "cell_type": "code",
   "execution_count": 3,
   "metadata": {
    "collapsed": true
   },
   "outputs": [],
   "source": [
    "one = _hesperia_data\n",
    "two = _laguna_data"
   ]
  },
  {
   "cell_type": "code",
   "execution_count": 4,
   "metadata": {
    "collapsed": false
   },
   "outputs": [],
   "source": [
    "# Concatenate maps \"one\" and \"two\", back to back so that the central value\n",
    "# is de-emphasized, and make the inverse scale \"_r\" as well:\n",
    "center_emph = ListedColormap((one[::-1][:192] + two[1:][64:])[10:-10], name=\"center_emph\")\n",
    "center_emph_r = ListedColormap(center_emph.colors[::-1], name=\"center_emph_r\")\n",
    "plt.register_cmap(cmap=center_emph)\n",
    "plt.register_cmap(cmap=center_emph_r)\n",
    "\n",
    "# Now do the same thing, but to emphasize the central value instead:\n",
    "center_deemph = ListedColormap((one[:-1][64:] + two[::-1][:192])[20:-20], name=\"center_deemph\")\n",
    "center_deemph_r = ListedColormap(center_deemph.colors[::-1], name=\"center_deemph_r\")\n",
    "plt.register_cmap(cmap=center_emph)\n",
    "plt.register_cmap(cmap=center_emph_r)"
   ]
  },
  {
   "cell_type": "markdown",
   "metadata": {
    "collapsed": false
   },
   "source": [
    "Now make a testcard plot for each one."
   ]
  },
  {
   "cell_type": "code",
   "execution_count": 5,
   "metadata": {
    "collapsed": false
   },
   "outputs": [],
   "source": [
    "for cmap in [center_emph, center_deemph]:\n",
    "    fig = testcard(cmap)\n",
    "    fig.savefig(\"{}.png\".format(cmap.name))"
   ]
  },
  {
   "cell_type": "code",
   "execution_count": 6,
   "metadata": {
    "collapsed": false
   },
   "outputs": [
    {
     "data": {
      "text/html": [
       "<table><tr><td><img src='center_emph.png'></td><td><img src='center_deemph.png'></td></tr></table>"
      ],
      "text/plain": [
       "<IPython.core.display.HTML object>"
      ]
     },
     "metadata": {},
     "output_type": "display_data"
    }
   ],
   "source": [
    "display(HTML(\"<table><tr><td><img src='center_emph.png'></td><td><img src='center_deemph.png'></td></tr></table>\"))"
   ]
  },
  {
   "cell_type": "markdown",
   "metadata": {
    "collapsed": true
   },
   "source": [
    "## 2. A \"Random Linear\" Colormap\n",
    "\n",
    "Goal: find a color map that appears to be a linear grayscale when viewed (or printed) in black and white, but is as colorful as possible when viewed in color.\n",
    "\n",
    "### a) Fast `cubehelix`\n",
    "\n",
    "Could we implement this cheaply by using the `cubehelix` color map, but have it wind so fast that the hue is effectively random?"
   ]
  },
  {
   "cell_type": "code",
   "execution_count": 7,
   "metadata": {
    "collapsed": false
   },
   "outputs": [],
   "source": [
    "# Make a cubehelix color map, and re-register it as \"fast_cubehelix\".\n",
    "\n",
    "# First get the cubehelix color table, with some large number of rotations:\n",
    "forward = cubehelix(gamma=1.0, s=0.5, r=-37*3.141592654, h=1.0)\n",
    "\n",
    "# Now register this as a listed color map:\n",
    "fast_cubehelix = LinearSegmentedColormap(\"fast_cubehelix\", forward, 256)\n",
    "plt.register_cmap(cmap=fast_cubehelix)"
   ]
  },
  {
   "cell_type": "code",
   "execution_count": 8,
   "metadata": {
    "collapsed": false
   },
   "outputs": [],
   "source": [
    "fig = testcard(fast_cubehelix)\n",
    "fig.savefig('fast_cubehelix.png')"
   ]
  },
  {
   "cell_type": "code",
   "execution_count": 9,
   "metadata": {
    "collapsed": false
   },
   "outputs": [
    {
     "data": {
      "text/html": [
       "<table><tr><td><img src='fast_cubehelix.png'></td><td><img src='fast_cubehelix_bw.png'></td></tr></table>"
      ],
      "text/plain": [
       "<IPython.core.display.HTML object>"
      ]
     },
     "metadata": {},
     "output_type": "display_data"
    }
   ],
   "source": [
    "! convert -type Grayscale fast_cubehelix.png fast_cubehelix_bw.png\n",
    "display(HTML(\"<table><tr><td><img src='fast_cubehelix.png'></td><td><img src='fast_cubehelix_bw.png'></td></tr></table>\"))"
   ]
  },
  {
   "cell_type": "markdown",
   "metadata": {},
   "source": [
    "So this does *not* work, but in a fairly amusing way: the helical path through the RGB cube is too regular, even when it's a very tight spiral, and you get interference effects. "
   ]
  },
  {
   "cell_type": "markdown",
   "metadata": {},
   "source": [
    "### b) Random Sampling\n",
    "\n",
    "Let's try making RGB arrays with the same linear amplitude as `cubehelix`, but otherwise sampling \"randomly\". We can try to do this by using a linear ramp in \"value\", and then sampling uniformly on the hue-saturation (disk) plane. Other similar options are to work with the HCL or HSL systems. Alternatively we could just sample the RGB cube and then select samples that have the right intensity. This may need a lot of samples.\n",
    "\n",
    "First, let's define the transformations that we cannot easily import from elsewhere."
   ]
  },
  {
   "cell_type": "code",
   "execution_count": 10,
   "metadata": {
    "collapsed": false
   },
   "outputs": [],
   "source": [
    "# Utility functions:\n",
    "\n",
    "def hls_to_rgb(hls): \n",
    "    rgb = np.zeros_like(hls)\n",
    "    import colorsys\n",
    "    for i in range(len(hls)):\n",
    "        r,g,b = colorsys.hls_to_rgb(hls[i,0], hls[i,1], hls[i,2])\n",
    "        rgb[i,:] = np.array([r,g,b])\n",
    "    \n",
    "    return rgb\n",
    "\n",
    "\n",
    "def hcl_to_rgb(hcl):\n",
    "    perm = np.array([[0,1,2],[1,0,2],[2,0,1],[2,1,0],[1,2,0],[0,2,1]])\n",
    "    luma_vec = np.array([0.21, 0.72, 0.07])\n",
    "\n",
    "    h = hcl[:,0]\n",
    "    c = hcl[:,1]\n",
    "    y = hcl[:,2]\n",
    "    \n",
    "    p = h / 60.0\n",
    "    x = c * (1.0 - np.abs(np.mod(p, 2.0) - 1.0))\n",
    "    z = np.zeros_like(x)\n",
    "    ip = np.int64(p)\n",
    "    col = np.vstack((c,x,z)).transpose()  \n",
    "    \n",
    "    rgb = col[np.tile(np.arange(len(x)), (3,1)).transpose(), perm[ip]]\n",
    "    \n",
    "    m = y - np.dot(rgb, luma_vec)\n",
    "    rgb += m[:,np.newaxis]\n",
    "    \n",
    "    # The following is necessary but demonstrates a problems - some RGB vals are hitting cube boundary. \n",
    "    rgb = np.clip(rgb, 0, 1, out=rgb)\n",
    "    \n",
    "    return rgb"
   ]
  },
  {
   "cell_type": "code",
   "execution_count": 11,
   "metadata": {
    "collapsed": true
   },
   "outputs": [],
   "source": [
    "def random_linear(nlev=256,space='rgb',seed=42):\n",
    "    \"\"\"\n",
    "    Make a matplotlib colormap object representing a color table that is linear in intensity but random in RGB.\n",
    "    \n",
    "    Parameters\n",
    "    ----------\n",
    "    nlev : int, optional\n",
    "        the desired number of levels in the color table\n",
    "    space : str\n",
    "        the space to sample. Options are 'rgb' (default), 'hsv', 'hcl', 'hsl'\n",
    "    seed : int\n",
    "        the random seed to use when sampling\n",
    "    \n",
    "    Returns\n",
    "    -------\n",
    "    cmap : ListedColormap\n",
    "        a matplotlib colormap object\n",
    "        \n",
    "    Notes\n",
    "    -----\n",
    "    This function only partially works. The output tables are somehow *not* quite\n",
    "    linear in intensity, in that they all appear with stripes in them where the \n",
    "    increase in intensity is not smooth. This seems to be due to the RGB values \n",
    "    hitting the edges of the unit cube (in the hsv, hsl, and hcl cases); when \n",
    "    sampling in rgb it's not clear what is going on. The rgb result is still \n",
    "    an approximately smooth linear ramp. Oddly, when the rgb PNG file is converted \n",
    "    to grayscale using Image Magick's `convert` utility, the resulting testcard\n",
    "    *does* look like a smooth grayscale image. Until this is understood I recommend\n",
    "    that you do *not* use this colormap.\n",
    "    \"\"\"\n",
    "    \n",
    "    np.random.seed(seed)\n",
    "    \n",
    "    if space == 'hsv':\n",
    "        # Warning: uniform sampling in HSV does not work, as the cube is often exceeded:\n",
    "        val = np.linspace(0.0, 1.0, nlev)\n",
    "        hue = np.random.random(nlev)\n",
    "        sat = np.sqrt(np.random.random(nlev))\n",
    "        hsv = np.vstack([hue, sat, val]).transpose()\n",
    "        from matplotlib.colors import hsv_to_rgb\n",
    "        rgb = hsv_to_rgb(hsv)\n",
    "        \n",
    "    elif space == 'hcl':\n",
    "        # HCL has the same problem:\n",
    "        lum = np.linspace(0.0, 1.0, nlev)\n",
    "        hue = 360.0 * np.random.random(nlev)\n",
    "        chm = np.sqrt(np.random.random(nlev))\n",
    "        hcl = np.vstack([hue, chm, lum]).transpose()\n",
    "        rgb = hcl_to_rgb(hcl)\n",
    "  \n",
    "    elif space == 'hsl':\n",
    "        # HSL, same story:\n",
    "        lum = np.linspace(0.0, 1.0, nlev)\n",
    "        hue = 360.0 * np.random.random(nlev)\n",
    "        sat = np.sqrt(np.random.random(nlev))    \n",
    "        hls = np.vstack([hue, lum, sat]).transpose()\n",
    "        rgb = hls_to_rgb(hls)       \n",
    "        \n",
    "    else:\n",
    "        # Uniformly sample the rgb cube and deal with it (and then lament the non-smooth output)  \n",
    "        loads = 3000000\n",
    "        f = lambda r,g,b: 0.21*r + 0.72*g + 0.07*b\n",
    "        red = np.random.random(loads)\n",
    "        grn = np.random.random(loads)\n",
    "        blu = np.random.random(loads)\n",
    "        I = f(red,grn,blu)\n",
    "        # print \"Uniformly sampling the RGB cube:\"\n",
    "        # print \"  red: \", np.min(red), np.max(red)\n",
    "        # print \"  grn: \", np.min(grn), np.max(grn)\n",
    "        # print \"  blu: \", np.min(blu), np.max(blu)\n",
    "        # print \"    I: \", np.min(I),   np.max(I)\n",
    "        Irgb = np.vstack([I, red, grn, blu]).transpose()\n",
    "        # Use `histogram` to bin the samples by intensity, and then label the \n",
    "        # members of each bin with `digitize`:\n",
    "        index = np.linspace(0,loads,loads,dtype=int)\n",
    "        hist, bins = np.histogram(I, bins=nlev)\n",
    "        levels = np.digitize(I, bins)\n",
    "        # Select bin members and find the sample closest to the center:\n",
    "        width = (np.max(I)-np.min(I))/float(nlev)\n",
    "        residual = np.zeros_like(I)\n",
    "        selected = range(nlev)  # This is just an int array that we will populate\n",
    "        for k in range(0,nlev):\n",
    "            I_target = k * width + 0.5 * width\n",
    "            j = np.where(levels == k+1)\n",
    "            if len(j) == 0:\n",
    "                this = 0\n",
    "            else:\n",
    "                residual[j] = I[j] - I_target\n",
    "                thisindex = index[j] \n",
    "                thisbest = np.argmin(np.abs(residual[j]))  # integer index referring to the j subset\n",
    "                this = thisindex[thisbest]\n",
    "            # Check intensity:\n",
    "            thisrgb = Irgb[this][1:4]\n",
    "            thisI = f(thisrgb[0], thisrgb[1], thisrgb[2])\n",
    "            # print \"Intensity level =\",k,\" will use sample\", this, \": I =\",I[this], \"+/-\", residual[this],\"cf.\",thisI\n",
    "            assert (thisI - I[this]) < 0.01\n",
    "            selected[k] = this\n",
    "        # Pull out these samples, and extract RGB values:\n",
    "        rgb = Irgb[selected][:,1:4]\n",
    "    \n",
    "    # We now have an rgb array, 3 columns by nlev rows, that we can build a color map from:\n",
    "    return ListedColormap(rgb, name=\"random_linear\")"
   ]
  },
  {
   "cell_type": "code",
   "execution_count": 12,
   "metadata": {
    "collapsed": false
   },
   "outputs": [],
   "source": [
    "! rm random_linear*.png\n",
    "cmap = random_linear(nlev=256,seed=12)\n",
    "plt.register_cmap(cmap=cmap)\n",
    "fig = testcard(cmap)\n",
    "fig.savefig('random_linear.png')"
   ]
  },
  {
   "cell_type": "code",
   "execution_count": 13,
   "metadata": {
    "collapsed": true
   },
   "outputs": [],
   "source": [
    "! convert -type Grayscale random_linear.png random_linear_bw.png"
   ]
  },
  {
   "cell_type": "markdown",
   "metadata": {
    "collapsed": true
   },
   "source": [
    "<table>\n",
    "  <tr>\n",
    "    <td><img src='random_linear.png'></td>\n",
    "    <td><img src='random_linear_bw.png'></td>\n",
    "  </tr>\n",
    "</table>\n",
    "\n",
    "> You can also do this, in a code cell:\n",
    "```\n",
    "display(HTML(\"<table><tr><td><img src='random_linear.png'></td><td><img src='random_linear_bw.png'></td></tr></table>\"))\n",
    "```\n",
    "However, the images do not seem to refresh each time the cell is executed."
   ]
  },
  {
   "cell_type": "markdown",
   "metadata": {},
   "source": [
    "This is *almost* a good result (for some definition of \"good\"). The unix-converted PNG image looks like a nice smooth grayscale plot - just as required. However the notebook view of the same plot shows some level-to-level problems, which I don't understand. I have not yet tested the black and white printed view."
   ]
  },
  {
   "cell_type": "markdown",
   "metadata": {
    "collapsed": true
   },
   "source": [
    "## Conclusions\n",
    "\n",
    "1. Visually appealing, diverging colormaps can be made pretty straight forwardly in the manner shown above.\n",
    "2. It seems to be fairly difficult to generate a randomly-sampled color map that appears as linear grayscale across a range of media (grayscale macbook screen, ImageMagick converted PNG, black and white printout)."
   ]
  }
 ],
 "metadata": {
  "anaconda-cloud": {},
  "kernelspec": {
   "display_name": "Python 2",
   "language": "python",
   "name": "python2"
  },
  "language_info": {
   "codemirror_mode": {
    "name": "ipython",
    "version": 2
   },
   "file_extension": ".py",
   "mimetype": "text/x-python",
   "name": "python",
   "nbconvert_exporter": "python",
   "pygments_lexer": "ipython2",
   "version": "2.7.12"
  }
 },
 "nbformat": 4,
 "nbformat_minor": 1
}
